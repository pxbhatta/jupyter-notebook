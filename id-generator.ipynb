{
 "cells": [
  {
   "cell_type": "code",
   "execution_count": 1,
   "metadata": {},
   "outputs": [],
   "source": [
    "import time\n",
    "import hashlib\n",
    "import uuid\n",
    "\n",
    "class IdGeneratorImpl:\n",
    "    EPOCH_BITS = 41\n",
    "    NODE_ID_BITS = 10\n",
    "    SEQUENCE_BITS = 12\n",
    "\n",
    "    MAX_NODE_ID = (1 << NODE_ID_BITS) - 1\n",
    "    MAX_SEQUENCE = (1 << SEQUENCE_BITS) - 1\n",
    "\n",
    "    DEFAULT_CUSTOM_EPOCH = 1609459200000  # Default epoch: 2021-01-01 00:00:00 UTC\n",
    "\n",
    "    def __init__(self, node_id=None, custom_epoch=None):\n",
    "        if node_id is not None and (node_id < 0 or node_id > self.MAX_NODE_ID):\n",
    "            raise ValueError(f\"NodeId must be between 0 and {self.MAX_NODE_ID}\")\n",
    "\n",
    "        self.node_id = node_id if node_id is not None else self.create_node_id()\n",
    "        self.custom_epoch = custom_epoch if custom_epoch is not None else self.DEFAULT_CUSTOM_EPOCH\n",
    "        self.last_timestamp = -1\n",
    "        self.min_sequence = 0\n",
    "\n",
    "    def next_id(self):\n",
    "        current_timestamp = self.timestamp()\n",
    "        if current_timestamp < self.last_timestamp:\n",
    "            raise ValueError(\"Invalid System Clock!\")\n",
    "\n",
    "        if current_timestamp == self.last_timestamp:\n",
    "            self.min_sequence = (self.min_sequence + 1) & self.MAX_SEQUENCE\n",
    "            if self.min_sequence == 0:\n",
    "                current_timestamp = self.wait_next_millis(current_timestamp)\n",
    "        else:\n",
    "            self.min_sequence = 0\n",
    "\n",
    "        self.last_timestamp = current_timestamp\n",
    "        generated_id = (\n",
    "            (current_timestamp << (self.NODE_ID_BITS + self.SEQUENCE_BITS))\n",
    "            | (self.node_id << self.SEQUENCE_BITS)\n",
    "            | self.min_sequence\n",
    "        )\n",
    "        return generated_id\n",
    "\n",
    "    def timestamp(self):\n",
    "        return int((time.time() * 1000) - self.custom_epoch)\n",
    "\n",
    "    def wait_next_millis(self, current_timestamp):\n",
    "        while current_timestamp == self.last_timestamp:\n",
    "            current_timestamp = self.timestamp()\n",
    "        return current_timestamp\n",
    "\n",
    "    def create_node_id(self):\n",
    "        try:\n",
    "            node_id = int(hashlib.sha1(uuid.uuid4().bytes).hexdigest(), 16)\n",
    "        except Exception as ex:\n",
    "            node_id = int.from_bytes(uuid.uuid4().bytes, 'big')\n",
    "\n",
    "        return node_id & self.MAX_NODE_ID\n",
    "\n",
    "    def parse(self, generated_id):\n",
    "        mask_node_id = ((1 << self.NODE_ID_BITS) - 1) << self.SEQUENCE_BITS\n",
    "        mask_sequence = (1 << self.SEQUENCE_BITS) - 1\n",
    "\n",
    "        timestamp = (generated_id >> (self.NODE_ID_BITS + self.SEQUENCE_BITS)) + self.custom_epoch\n",
    "        node_id = (generated_id & mask_node_id) >> self.SEQUENCE_BITS\n",
    "        sequence = generated_id & mask_sequence\n",
    "\n",
    "        return {\n",
    "            \"timestamp\": timestamp,\n",
    "            \"node_id\": node_id,\n",
    "            \"sequence\": sequence\n",
    "        }\n",
    "\n",
    "    def __str__(self):\n",
    "        return (\n",
    "            f\"Snowflake Settings [EPOCH_BITS={self.EPOCH_BITS}, NODE_ID_BITS={self.NODE_ID_BITS}, \"\n",
    "            f\"SEQUENCE_BITS={self.SEQUENCE_BITS}, CUSTOM_EPOCH={self.custom_epoch}, NodeId={self.node_id}]\"\n",
    "        )\n",
    "\n",
    "\n"
   ]
  },
  {
   "cell_type": "code",
   "execution_count": 2,
   "metadata": {},
   "outputs": [
    {
     "name": "stdout",
     "output_type": "stream",
     "text": [
      "Generated ID: 393967332332232704\n",
      "{'timestamp': 1703388331587, 'node_id': 86, 'sequence': 0}\n",
      "Snowflake Settings [EPOCH_BITS=41, NODE_ID_BITS=10, SEQUENCE_BITS=12, CUSTOM_EPOCH=1609459200000, NodeId=86]\n"
     ]
    }
   ],
   "source": [
    "\n",
    "id_generator = IdGeneratorImpl()\n",
    "generated_id = id_generator.next_id()\n",
    "print(f\"Generated ID: {generated_id}\")\n",
    "print(id_generator.parse(generated_id))\n",
    "print(id_generator)"
   ]
  }
 ],
 "metadata": {
  "kernelspec": {
   "display_name": ".venv",
   "language": "python",
   "name": "python3"
  },
  "language_info": {
   "codemirror_mode": {
    "name": "ipython",
    "version": 3
   },
   "file_extension": ".py",
   "mimetype": "text/x-python",
   "name": "python",
   "nbconvert_exporter": "python",
   "pygments_lexer": "ipython3",
   "version": "3.8.10"
  }
 },
 "nbformat": 4,
 "nbformat_minor": 2
}
