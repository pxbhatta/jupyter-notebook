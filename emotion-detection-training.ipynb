{
 "cells": [
  {
   "cell_type": "markdown",
   "metadata": {},
   "source": [
    "# Reference\n",
    "- https://towardsdatascience.com/detecting-emotions-from-voice-clips-f1f7cc5d4827\n",
    "- https://github.com/shaan-shah/Emotion-Detection-from-Sound/blob/master/README.md"
   ]
  },
  {
   "cell_type": "code",
   "execution_count": 4,
   "metadata": {},
   "outputs": [
    {
     "name": "stdout",
     "output_type": "stream",
     "text": [
      "Requirement already up-to-date: fastai in ./.venv/lib/python3.8/site-packages (2.7.13)\n",
      "Requirement already satisfied, skipping upgrade: requests in ./.venv/lib/python3.8/site-packages (from fastai) (2.31.0)\n",
      "Requirement already satisfied, skipping upgrade: pandas in ./.venv/lib/python3.8/site-packages (from fastai) (2.0.3)\n",
      "Requirement already satisfied, skipping upgrade: torchvision>=0.11 in ./.venv/lib/python3.8/site-packages (from fastai) (0.16.2)\n",
      "Requirement already satisfied, skipping upgrade: packaging in ./.venv/lib/python3.8/site-packages (from fastai) (23.2)\n",
      "Requirement already satisfied, skipping upgrade: fastprogress>=0.2.4 in ./.venv/lib/python3.8/site-packages (from fastai) (1.0.3)\n",
      "Requirement already satisfied, skipping upgrade: spacy<4 in ./.venv/lib/python3.8/site-packages (from fastai) (3.7.2)\n",
      "Requirement already satisfied, skipping upgrade: scikit-learn in ./.venv/lib/python3.8/site-packages (from fastai) (1.3.2)\n",
      "Requirement already satisfied, skipping upgrade: pip in ./.venv/lib/python3.8/site-packages (from fastai) (20.0.2)\n",
      "Requirement already satisfied, skipping upgrade: fastdownload<2,>=0.0.5 in ./.venv/lib/python3.8/site-packages (from fastai) (0.0.7)\n",
      "Requirement already satisfied, skipping upgrade: scipy in ./.venv/lib/python3.8/site-packages (from fastai) (1.10.1)\n",
      "Requirement already satisfied, skipping upgrade: torch<2.2,>=1.10 in ./.venv/lib/python3.8/site-packages (from fastai) (2.1.2)\n",
      "Requirement already satisfied, skipping upgrade: pyyaml in ./.venv/lib/python3.8/site-packages (from fastai) (6.0.1)\n",
      "Requirement already satisfied, skipping upgrade: matplotlib in ./.venv/lib/python3.8/site-packages (from fastai) (3.7.4)\n",
      "Requirement already satisfied, skipping upgrade: fastcore<1.6,>=1.5.29 in ./.venv/lib/python3.8/site-packages (from fastai) (1.5.29)\n",
      "Requirement already satisfied, skipping upgrade: pillow>=9.0.0 in ./.venv/lib/python3.8/site-packages (from fastai) (10.1.0)\n",
      "Requirement already satisfied, skipping upgrade: urllib3<3,>=1.21.1 in ./.venv/lib/python3.8/site-packages (from requests->fastai) (2.1.0)\n",
      "Requirement already satisfied, skipping upgrade: charset-normalizer<4,>=2 in ./.venv/lib/python3.8/site-packages (from requests->fastai) (3.3.2)\n",
      "Requirement already satisfied, skipping upgrade: certifi>=2017.4.17 in ./.venv/lib/python3.8/site-packages (from requests->fastai) (2023.11.17)\n",
      "Requirement already satisfied, skipping upgrade: idna<4,>=2.5 in ./.venv/lib/python3.8/site-packages (from requests->fastai) (3.6)\n",
      "Requirement already satisfied, skipping upgrade: tzdata>=2022.1 in ./.venv/lib/python3.8/site-packages (from pandas->fastai) (2023.3)\n",
      "Requirement already satisfied, skipping upgrade: numpy>=1.20.3; python_version < \"3.10\" in ./.venv/lib/python3.8/site-packages (from pandas->fastai) (1.24.4)\n",
      "Requirement already satisfied, skipping upgrade: pytz>=2020.1 in ./.venv/lib/python3.8/site-packages (from pandas->fastai) (2023.3.post1)\n",
      "Requirement already satisfied, skipping upgrade: python-dateutil>=2.8.2 in ./.venv/lib/python3.8/site-packages (from pandas->fastai) (2.8.2)\n",
      "Requirement already satisfied, skipping upgrade: catalogue<2.1.0,>=2.0.6 in ./.venv/lib/python3.8/site-packages (from spacy<4->fastai) (2.0.10)\n",
      "Requirement already satisfied, skipping upgrade: typer<0.10.0,>=0.3.0 in ./.venv/lib/python3.8/site-packages (from spacy<4->fastai) (0.9.0)\n",
      "Requirement already satisfied, skipping upgrade: spacy-loggers<2.0.0,>=1.0.0 in ./.venv/lib/python3.8/site-packages (from spacy<4->fastai) (1.0.5)\n",
      "Requirement already satisfied, skipping upgrade: thinc<8.3.0,>=8.1.8 in ./.venv/lib/python3.8/site-packages (from spacy<4->fastai) (8.2.2)\n",
      "Requirement already satisfied, skipping upgrade: preshed<3.1.0,>=3.0.2 in ./.venv/lib/python3.8/site-packages (from spacy<4->fastai) (3.0.9)\n",
      "Requirement already satisfied, skipping upgrade: tqdm<5.0.0,>=4.38.0 in ./.venv/lib/python3.8/site-packages (from spacy<4->fastai) (4.66.1)\n",
      "Requirement already satisfied, skipping upgrade: cymem<2.1.0,>=2.0.2 in ./.venv/lib/python3.8/site-packages (from spacy<4->fastai) (2.0.8)\n",
      "Requirement already satisfied, skipping upgrade: murmurhash<1.1.0,>=0.28.0 in ./.venv/lib/python3.8/site-packages (from spacy<4->fastai) (1.0.10)\n",
      "Requirement already satisfied, skipping upgrade: langcodes<4.0.0,>=3.2.0 in ./.venv/lib/python3.8/site-packages (from spacy<4->fastai) (3.3.0)\n",
      "Requirement already satisfied, skipping upgrade: spacy-legacy<3.1.0,>=3.0.11 in ./.venv/lib/python3.8/site-packages (from spacy<4->fastai) (3.0.12)\n",
      "Requirement already satisfied, skipping upgrade: setuptools in ./.venv/lib/python3.8/site-packages (from spacy<4->fastai) (44.0.0)\n",
      "Requirement already satisfied, skipping upgrade: pydantic!=1.8,!=1.8.1,<3.0.0,>=1.7.4 in ./.venv/lib/python3.8/site-packages (from spacy<4->fastai) (2.5.2)\n",
      "Requirement already satisfied, skipping upgrade: wasabi<1.2.0,>=0.9.1 in ./.venv/lib/python3.8/site-packages (from spacy<4->fastai) (1.1.2)\n",
      "Requirement already satisfied, skipping upgrade: jinja2 in ./.venv/lib/python3.8/site-packages (from spacy<4->fastai) (3.1.2)\n",
      "Requirement already satisfied, skipping upgrade: weasel<0.4.0,>=0.1.0 in ./.venv/lib/python3.8/site-packages (from spacy<4->fastai) (0.3.4)\n",
      "Requirement already satisfied, skipping upgrade: srsly<3.0.0,>=2.4.3 in ./.venv/lib/python3.8/site-packages (from spacy<4->fastai) (2.4.8)\n",
      "Requirement already satisfied, skipping upgrade: smart-open<7.0.0,>=5.2.1 in ./.venv/lib/python3.8/site-packages (from spacy<4->fastai) (6.4.0)\n",
      "Requirement already satisfied, skipping upgrade: threadpoolctl>=2.0.0 in ./.venv/lib/python3.8/site-packages (from scikit-learn->fastai) (3.2.0)\n",
      "Requirement already satisfied, skipping upgrade: joblib>=1.1.1 in ./.venv/lib/python3.8/site-packages (from scikit-learn->fastai) (1.3.2)\n",
      "Requirement already satisfied, skipping upgrade: nvidia-cuda-cupti-cu12==12.1.105; platform_system == \"Linux\" and platform_machine == \"x86_64\" in ./.venv/lib/python3.8/site-packages (from torch<2.2,>=1.10->fastai) (12.1.105)\n",
      "Requirement already satisfied, skipping upgrade: nvidia-cuda-nvrtc-cu12==12.1.105; platform_system == \"Linux\" and platform_machine == \"x86_64\" in ./.venv/lib/python3.8/site-packages (from torch<2.2,>=1.10->fastai) (12.1.105)\n",
      "Requirement already satisfied, skipping upgrade: nvidia-curand-cu12==10.3.2.106; platform_system == \"Linux\" and platform_machine == \"x86_64\" in ./.venv/lib/python3.8/site-packages (from torch<2.2,>=1.10->fastai) (10.3.2.106)\n",
      "Requirement already satisfied, skipping upgrade: nvidia-nccl-cu12==2.18.1; platform_system == \"Linux\" and platform_machine == \"x86_64\" in ./.venv/lib/python3.8/site-packages (from torch<2.2,>=1.10->fastai) (2.18.1)\n",
      "Requirement already satisfied, skipping upgrade: filelock in ./.venv/lib/python3.8/site-packages (from torch<2.2,>=1.10->fastai) (3.13.1)\n",
      "Requirement already satisfied, skipping upgrade: networkx in ./.venv/lib/python3.8/site-packages (from torch<2.2,>=1.10->fastai) (3.1)\n",
      "Requirement already satisfied, skipping upgrade: fsspec in ./.venv/lib/python3.8/site-packages (from torch<2.2,>=1.10->fastai) (2023.12.2)\n",
      "Requirement already satisfied, skipping upgrade: nvidia-cuda-runtime-cu12==12.1.105; platform_system == \"Linux\" and platform_machine == \"x86_64\" in ./.venv/lib/python3.8/site-packages (from torch<2.2,>=1.10->fastai) (12.1.105)\n",
      "Requirement already satisfied, skipping upgrade: nvidia-cublas-cu12==12.1.3.1; platform_system == \"Linux\" and platform_machine == \"x86_64\" in ./.venv/lib/python3.8/site-packages (from torch<2.2,>=1.10->fastai) (12.1.3.1)\n",
      "Requirement already satisfied, skipping upgrade: nvidia-cusolver-cu12==11.4.5.107; platform_system == \"Linux\" and platform_machine == \"x86_64\" in ./.venv/lib/python3.8/site-packages (from torch<2.2,>=1.10->fastai) (11.4.5.107)\n",
      "Requirement already satisfied, skipping upgrade: typing-extensions in ./.venv/lib/python3.8/site-packages (from torch<2.2,>=1.10->fastai) (4.9.0)\n",
      "Requirement already satisfied, skipping upgrade: nvidia-nvtx-cu12==12.1.105; platform_system == \"Linux\" and platform_machine == \"x86_64\" in ./.venv/lib/python3.8/site-packages (from torch<2.2,>=1.10->fastai) (12.1.105)\n",
      "Requirement already satisfied, skipping upgrade: nvidia-cufft-cu12==11.0.2.54; platform_system == \"Linux\" and platform_machine == \"x86_64\" in ./.venv/lib/python3.8/site-packages (from torch<2.2,>=1.10->fastai) (11.0.2.54)\n",
      "Requirement already satisfied, skipping upgrade: nvidia-cusparse-cu12==12.1.0.106; platform_system == \"Linux\" and platform_machine == \"x86_64\" in ./.venv/lib/python3.8/site-packages (from torch<2.2,>=1.10->fastai) (12.1.0.106)\n",
      "Requirement already satisfied, skipping upgrade: sympy in ./.venv/lib/python3.8/site-packages (from torch<2.2,>=1.10->fastai) (1.12)\n",
      "Requirement already satisfied, skipping upgrade: triton==2.1.0; platform_system == \"Linux\" and platform_machine == \"x86_64\" in ./.venv/lib/python3.8/site-packages (from torch<2.2,>=1.10->fastai) (2.1.0)\n",
      "Requirement already satisfied, skipping upgrade: nvidia-cudnn-cu12==8.9.2.26; platform_system == \"Linux\" and platform_machine == \"x86_64\" in ./.venv/lib/python3.8/site-packages (from torch<2.2,>=1.10->fastai) (8.9.2.26)\n",
      "Requirement already satisfied, skipping upgrade: kiwisolver>=1.0.1 in ./.venv/lib/python3.8/site-packages (from matplotlib->fastai) (1.4.5)\n",
      "Requirement already satisfied, skipping upgrade: cycler>=0.10 in ./.venv/lib/python3.8/site-packages (from matplotlib->fastai) (0.12.1)\n",
      "Requirement already satisfied, skipping upgrade: pyparsing>=2.3.1 in ./.venv/lib/python3.8/site-packages (from matplotlib->fastai) (3.1.1)\n",
      "Requirement already satisfied, skipping upgrade: fonttools>=4.22.0 in ./.venv/lib/python3.8/site-packages (from matplotlib->fastai) (4.47.0)\n",
      "Requirement already satisfied, skipping upgrade: contourpy>=1.0.1 in ./.venv/lib/python3.8/site-packages (from matplotlib->fastai) (1.1.1)\n",
      "Requirement already satisfied, skipping upgrade: importlib-resources>=3.2.0; python_version < \"3.10\" in ./.venv/lib/python3.8/site-packages (from matplotlib->fastai) (6.1.1)\n",
      "Requirement already satisfied, skipping upgrade: six>=1.5 in ./.venv/lib/python3.8/site-packages (from python-dateutil>=2.8.2->pandas->fastai) (1.16.0)\n",
      "Requirement already satisfied, skipping upgrade: click<9.0.0,>=7.1.1 in ./.venv/lib/python3.8/site-packages (from typer<0.10.0,>=0.3.0->spacy<4->fastai) (8.1.7)\n",
      "Requirement already satisfied, skipping upgrade: confection<1.0.0,>=0.0.1 in ./.venv/lib/python3.8/site-packages (from thinc<8.3.0,>=8.1.8->spacy<4->fastai) (0.1.4)\n",
      "Requirement already satisfied, skipping upgrade: blis<0.8.0,>=0.7.8 in ./.venv/lib/python3.8/site-packages (from thinc<8.3.0,>=8.1.8->spacy<4->fastai) (0.7.11)\n",
      "Requirement already satisfied, skipping upgrade: pydantic-core==2.14.5 in ./.venv/lib/python3.8/site-packages (from pydantic!=1.8,!=1.8.1,<3.0.0,>=1.7.4->spacy<4->fastai) (2.14.5)\n",
      "Requirement already satisfied, skipping upgrade: annotated-types>=0.4.0 in ./.venv/lib/python3.8/site-packages (from pydantic!=1.8,!=1.8.1,<3.0.0,>=1.7.4->spacy<4->fastai) (0.6.0)\n",
      "Requirement already satisfied, skipping upgrade: MarkupSafe>=2.0 in ./.venv/lib/python3.8/site-packages (from jinja2->spacy<4->fastai) (2.1.3)\n",
      "Requirement already satisfied, skipping upgrade: cloudpathlib<0.17.0,>=0.7.0 in ./.venv/lib/python3.8/site-packages (from weasel<0.4.0,>=0.1.0->spacy<4->fastai) (0.16.0)\n",
      "Requirement already satisfied, skipping upgrade: nvidia-nvjitlink-cu12 in ./.venv/lib/python3.8/site-packages (from nvidia-cusolver-cu12==11.4.5.107; platform_system == \"Linux\" and platform_machine == \"x86_64\"->torch<2.2,>=1.10->fastai) (12.3.101)\n",
      "Requirement already satisfied, skipping upgrade: mpmath>=0.19 in ./.venv/lib/python3.8/site-packages (from sympy->torch<2.2,>=1.10->fastai) (1.3.0)\n",
      "Requirement already satisfied, skipping upgrade: zipp>=3.1.0; python_version < \"3.10\" in ./.venv/lib/python3.8/site-packages (from importlib-resources>=3.2.0; python_version < \"3.10\"->matplotlib->fastai) (3.17.0)\n",
      "Note: you may need to restart the kernel to use updated packages.\n"
     ]
    }
   ],
   "source": [
    "%pip install --upgrade fastai"
   ]
  },
  {
   "cell_type": "code",
   "execution_count": 1,
   "metadata": {},
   "outputs": [],
   "source": [
    "from fastai.vision.all import *\n",
    "from pathlib import Path\n",
    "import numpy as np"
   ]
  },
  {
   "cell_type": "code",
   "execution_count": 6,
   "metadata": {},
   "outputs": [],
   "source": [
    "path=Path('docs/sorted_data')"
   ]
  },
  {
   "cell_type": "code",
   "execution_count": 7,
   "metadata": {},
   "outputs": [
    {
     "data": {
      "text/plain": [
       "(#0) []"
      ]
     },
     "execution_count": 7,
     "metadata": {},
     "output_type": "execute_result"
    }
   ],
   "source": [
    "path.ls()"
   ]
  },
  {
   "cell_type": "code",
   "execution_count": null,
   "metadata": {},
   "outputs": [],
   "source": [
    "tfms = get_transforms(do_flip=False,flip_vert=False, max_lighting=0.1, max_zoom=1.05, max_warp=0.,max_rotate=5)\n"
   ]
  },
  {
   "cell_type": "code",
   "execution_count": null,
   "metadata": {},
   "outputs": [],
   "source": [
    "np.random.seed(42)\n",
    "data = ImageDataBunch.from_folder(path, train=\".\", valid_pct=0.2,\n",
    "        ds_tfms=get_transforms(), size=144, num_workers=4).normalize(imagenet_stats)"
   ]
  }
 ],
 "metadata": {
  "kernelspec": {
   "display_name": ".venv",
   "language": "python",
   "name": "python3"
  },
  "language_info": {
   "codemirror_mode": {
    "name": "ipython",
    "version": 3
   },
   "file_extension": ".py",
   "mimetype": "text/x-python",
   "name": "python",
   "nbconvert_exporter": "python",
   "pygments_lexer": "ipython3",
   "version": "3.8.10"
  }
 },
 "nbformat": 4,
 "nbformat_minor": 2
}
